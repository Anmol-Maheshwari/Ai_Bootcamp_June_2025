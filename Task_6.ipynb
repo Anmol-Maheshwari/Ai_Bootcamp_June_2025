{
  "nbformat": 4,
  "nbformat_minor": 0,
  "metadata": {
    "colab": {
      "provenance": []
    },
    "kernelspec": {
      "name": "python3",
      "display_name": "Python 3"
    },
    "language_info": {
      "name": "python"
    }
  },
  "cells": [
    {
      "cell_type": "code",
      "execution_count": 1,
      "metadata": {
        "colab": {
          "base_uri": "https://localhost:8080/"
        },
        "id": "mvBU9N6N9sG8",
        "outputId": "bec316b4-c5dc-4754-e1d2-3dc21c7acc95"
      },
      "outputs": [
        {
          "output_type": "stream",
          "name": "stdout",
          "text": [
            "Downloading data from https://storage.googleapis.com/tensorflow/tf-keras-datasets/mnist.npz\n",
            "\u001b[1m11490434/11490434\u001b[0m \u001b[32m━━━━━━━━━━━━━━━━━━━━\u001b[0m\u001b[37m\u001b[0m \u001b[1m0s\u001b[0m 0us/step\n"
          ]
        },
        {
          "output_type": "stream",
          "name": "stderr",
          "text": [
            "/usr/local/lib/python3.11/dist-packages/keras/src/layers/reshaping/flatten.py:37: UserWarning: Do not pass an `input_shape`/`input_dim` argument to a layer. When using Sequential models, prefer using an `Input(shape)` object as the first layer in the model instead.\n",
            "  super().__init__(**kwargs)\n"
          ]
        },
        {
          "output_type": "stream",
          "name": "stdout",
          "text": [
            "Epoch 1/5\n",
            "\u001b[1m1688/1688\u001b[0m \u001b[32m━━━━━━━━━━━━━━━━━━━━\u001b[0m\u001b[37m\u001b[0m \u001b[1m19s\u001b[0m 9ms/step - accuracy: 0.8940 - loss: 0.3624 - val_accuracy: 0.9673 - val_loss: 0.1009\n",
            "Epoch 2/5\n",
            "\u001b[1m1688/1688\u001b[0m \u001b[32m━━━━━━━━━━━━━━━━━━━━\u001b[0m\u001b[37m\u001b[0m \u001b[1m14s\u001b[0m 8ms/step - accuracy: 0.9730 - loss: 0.0909 - val_accuracy: 0.9712 - val_loss: 0.0992\n",
            "Epoch 3/5\n",
            "\u001b[1m1688/1688\u001b[0m \u001b[32m━━━━━━━━━━━━━━━━━━━━\u001b[0m\u001b[37m\u001b[0m \u001b[1m13s\u001b[0m 8ms/step - accuracy: 0.9829 - loss: 0.0557 - val_accuracy: 0.9755 - val_loss: 0.0861\n",
            "Epoch 4/5\n",
            "\u001b[1m1688/1688\u001b[0m \u001b[32m━━━━━━━━━━━━━━━━━━━━\u001b[0m\u001b[37m\u001b[0m \u001b[1m10s\u001b[0m 6ms/step - accuracy: 0.9872 - loss: 0.0405 - val_accuracy: 0.9762 - val_loss: 0.0802\n",
            "Epoch 5/5\n",
            "\u001b[1m1688/1688\u001b[0m \u001b[32m━━━━━━━━━━━━━━━━━━━━\u001b[0m\u001b[37m\u001b[0m \u001b[1m21s\u001b[0m 6ms/step - accuracy: 0.9906 - loss: 0.0289 - val_accuracy: 0.9807 - val_loss: 0.0797\n",
            "\u001b[1m313/313\u001b[0m \u001b[32m━━━━━━━━━━━━━━━━━━━━\u001b[0m\u001b[37m\u001b[0m \u001b[1m1s\u001b[0m 2ms/step\n",
            "Classification Report:\n",
            "\n",
            "              precision    recall  f1-score   support\n",
            "\n",
            "           0       0.99      0.99      0.99       980\n",
            "           1       0.99      0.99      0.99      1135\n",
            "           2       0.98      0.97      0.98      1032\n",
            "           3       0.96      0.98      0.97      1010\n",
            "           4       0.97      0.98      0.97       982\n",
            "           5       0.96      0.98      0.97       892\n",
            "           6       0.99      0.96      0.98       958\n",
            "           7       0.97      0.98      0.98      1028\n",
            "           8       0.99      0.95      0.97       974\n",
            "           9       0.97      0.98      0.97      1009\n",
            "\n",
            "    accuracy                           0.98     10000\n",
            "   macro avg       0.98      0.98      0.98     10000\n",
            "weighted avg       0.98      0.98      0.98     10000\n",
            "\n"
          ]
        }
      ],
      "source": [
        "# Step 1: Import Libraries\n",
        "import numpy as np\n",
        "import tensorflow as tf\n",
        "from tensorflow.keras.models import Sequential\n",
        "from tensorflow.keras.layers import Flatten, Dense\n",
        "from tensorflow.keras.datasets import mnist\n",
        "from sklearn.metrics import classification_report\n",
        "\n",
        "# Step 2: Load the MNIST Dataset\n",
        "(x_train, y_train), (x_test, y_test) = mnist.load_data()\n",
        "\n",
        "# Step 3: Normalize pixel values to range [0, 1]\n",
        "x_train = x_train / 255.0\n",
        "x_test = x_test / 255.0\n",
        "\n",
        "# Step 4: Build the Neural Network Model\n",
        "model = Sequential([\n",
        "    Flatten(input_shape=(28, 28)),         # Input Layer: Flattens 28x28 image\n",
        "    Dense(400, activation='relu'),         # Hidden Layer 1: 400 neurons, ReLU\n",
        "    Dense(128, activation='relu'),         # Hidden Layer 2: 128 neurons, ReLU\n",
        "    Dense(10, activation='softmax')        # Output Layer: 10 neurons, Softmax\n",
        "])\n",
        "\n",
        "# Step 5: Compile the Model\n",
        "model.compile(optimizer='adam',\n",
        "              loss='sparse_categorical_crossentropy',\n",
        "              metrics=['accuracy'])\n",
        "\n",
        "# Step 6: Train the Model\n",
        "model.fit(x_train, y_train, epochs=5, batch_size=32, validation_split=0.1)\n",
        "\n",
        "# Step 7: Predict on Test Data\n",
        "y_pred_probs = model.predict(x_test)\n",
        "y_pred_classes = np.argmax(y_pred_probs, axis=1)\n",
        "\n",
        "# Step 8: Evaluate Using Classification Report\n",
        "print(\"Classification Report:\\n\")\n",
        "print(classification_report(y_test, y_pred_classes))\n"
      ]
    }
  ]
}