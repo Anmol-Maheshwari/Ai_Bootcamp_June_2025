{
  "nbformat": 4,
  "nbformat_minor": 0,
  "metadata": {
    "colab": {
      "provenance": []
    },
    "kernelspec": {
      "name": "python3",
      "display_name": "Python 3"
    },
    "language_info": {
      "name": "python"
    }
  },
  "cells": [
    {
      "cell_type": "code",
      "execution_count": null,
      "metadata": {
        "colab": {
          "base_uri": "https://localhost:8080/"
        },
        "id": "f0c8nKitSvPa",
        "outputId": "b537675a-f182-4d23-c320-4bba7407f098"
      },
      "outputs": [
        {
          "output_type": "stream",
          "name": "stdout",
          "text": [
            "Select operation:\n",
            "1. Add\n",
            "2. Subtract\n",
            "3. Multiply\n",
            "4. Divide\n"
          ]
        }
      ],
      "source": [
        "def add(x,y):\n",
        "    # Add two numbers\n",
        "    return x + y\n",
        "def subtract(x,y):\n",
        "    # Subtract two numbers\n",
        "    return x - y\n",
        "def multiply(x,y):\n",
        "    # Multiply two numbers\n",
        "    return x * y\n",
        "def divide(x,y):\n",
        "    # Divide two numbers\n",
        "    if y == 0:\n",
        "        raise ValueError(\"Cannot divide by zero\")\n",
        "    return x / y\n",
        "while True:\n",
        "    print(\"Select operation:\\n1. Add\\n2. Subtract\\n3. Multiply\\n4. Divide\")\n",
        "    choice = input(\"Enter choice (1-4): \")\n",
        "    x = float(input(\"Enter the first no: \"))\n",
        "    y = float(input(\"Enter the second no: \"))\n",
        "    if choice == '1':\n",
        "        print(x, \"+\", y, \"=\", add(x, y))\n",
        "    elif choice == '2':\n",
        "        print(x, \"-\", y, \"=\", subtract(x, y))\n",
        "    elif choice == '3':\n",
        "        print(x, \"*\", y, \"=\", multiply(x, y))\n",
        "    elif choice == '4':\n",
        "        try:\n",
        "            print(x, \"/\", y, \"=\", divide(x, y))\n",
        "        except ValueError as e:\n",
        "            print(e)\n",
        "    else:\n",
        "        print(\"Invalid input\")\n"
      ]
    }
  ]
}